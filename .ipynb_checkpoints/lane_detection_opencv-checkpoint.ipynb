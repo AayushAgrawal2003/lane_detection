{
 "cells": [
  {
   "cell_type": "markdown",
   "id": "034656ef",
   "metadata": {},
   "source": [
    "# Importing Packages"
   ]
  },
  {
   "cell_type": "code",
   "execution_count": null,
   "id": "cec45ddd",
   "metadata": {},
   "outputs": [],
   "source": [
    "import matplotlib.pyplot as plt\n",
    "import matplotlib.image as mpimg\n",
    "import numpy as np\n",
    "import cv2\n",
    "import math\n",
    "from scipy.optimize import curve_fit\n",
    "from numpy import arange\n",
    "from numpy import unique\n",
    "from numpy import where\n",
    "from sklearn.datasets import make_classification\n",
    "from sklearn.cluster import Birch"
   ]
  },
  {
   "cell_type": "markdown",
   "id": "4453dd02",
   "metadata": {},
   "source": [
    "# Detecting Lanes"
   ]
  },
  {
   "cell_type": "code",
   "execution_count": null,
   "id": "6ace75c1",
   "metadata": {},
   "outputs": [],
   "source": [
    "# Read in and grayscale the image\n",
    "image = mpimg.imread('test_images/solidWhiteCurve.jpg')\n",
    "gray = cv2.cvtColor(image,cv2.COLOR_RGB2GRAY)\n",
    "\n",
    "kernel_size = 5\n",
    "blur_gray = cv2.GaussianBlur(gray,(kernel_size, kernel_size),0)\n",
    "\n",
    "low_threshold = 180\n",
    "high_threshold = 240\n",
    "edges = cv2.Canny(blur_gray, low_threshold, high_threshold)\n",
    "\n",
    "mask = np.zeros_like(edges)   \n",
    "ignore_mask_color = 255   \n",
    "\n",
    "imshape = image.shape\n",
    "vertices = np.array([[(0,imshape[0]),(450, 290), (490, 290), (imshape[1],imshape[0])]], dtype=np.int32)\n",
    "cv2.fillPoly(mask, vertices, ignore_mask_color)\n",
    "masked_edges = cv2.bitwise_and(edges, mask)\n",
    "\n",
    "rho = 1 # distance resolution in pixels of the Hough grid\n",
    "theta = np.pi/180 # angular resolution in radians of the Hough grid\n",
    "threshold = 2     # minimum number of votes (intersections in Hough grid cell)\n",
    "min_line_length = 4 #minimum number of pixels making up a line\n",
    "max_line_gap = 5    # maximum gap in pixels between connectable line segments\n",
    "line_image = np.copy(image)*0 # creating a blank to draw lines on\n",
    "\n",
    "lines = cv2.HoughLinesP(masked_edges, rho, theta, threshold, np.array([]),\n",
    "                            min_line_length, max_line_gap)\n",
    "\n",
    "for line in lines:\n",
    "    for x1,y1,x2,y2 in line:\n",
    "        cv2.line(line_image,(x1,y1),(x2,y2),(255,0,0),10)\n",
    "\n",
    "color_edges = np.dstack((edges, edges, edges)) \n",
    "\n",
    "lines_edges = cv2.addWeighted(color_edges, 0.8, line_image, 1, 0)\n",
    "\n"
   ]
  },
  {
   "cell_type": "code",
   "execution_count": null,
   "id": "4d7e44e2",
   "metadata": {},
   "outputs": [],
   "source": [
    "plt.imshow(image)"
   ]
  },
  {
   "cell_type": "code",
   "execution_count": null,
   "id": "35a9b3ee",
   "metadata": {},
   "outputs": [],
   "source": [
    "plt.imshow(lines_edges)"
   ]
  },
  {
   "cell_type": "code",
   "execution_count": null,
   "id": "31b3405b",
   "metadata": {},
   "outputs": [],
   "source": [
    "plt.imshow(line_image)"
   ]
  },
  {
   "cell_type": "markdown",
   "id": "0b83f6c6",
   "metadata": {},
   "source": [
    "# Extracting X and Y coordinates"
   ]
  },
  {
   "cell_type": "code",
   "execution_count": null,
   "id": "2115402a",
   "metadata": {},
   "outputs": [],
   "source": [
    "points = []\n",
    "x_points = []\n",
    "y_points = []"
   ]
  },
  {
   "cell_type": "code",
   "execution_count": null,
   "id": "4644f2bb",
   "metadata": {
    "scrolled": false
   },
   "outputs": [],
   "source": [
    "line_image = np.copy(image)*0 # creating a blank to draw lines on\n",
    "for line in lines:\n",
    "    for x1,y1,x2,y2 in line:\n",
    "        startx = min(x1,x2)\n",
    "        endx = max(x1,x2)\n",
    "        if x2-x1 != 0:\n",
    "            slope = (y2-y1)/(x2-x1)\n",
    "        else:\n",
    "            pass\n",
    "        for i in range(startx,endx+1):\n",
    "            y = slope*(i-x2) + y2\n",
    "            #if y != math.inf and not math.isnan(y):\n",
    "            points.append([i,y])\n",
    "            x_points.append(i)\n",
    "            y_points.append(y)\n",
    "        cv2.line(line_image,(x1,y1),(x2,y2),(255,0,0),10)\n",
    "        \n",
    "plt.imshow(line_image)\n",
    "#print(points)"
   ]
  },
  {
   "cell_type": "code",
   "execution_count": null,
   "id": "0a5b1cd3",
   "metadata": {},
   "outputs": [],
   "source": [
    "plt.scatter(x_points,y_points)"
   ]
  },
  {
   "cell_type": "markdown",
   "id": "9b32230d",
   "metadata": {},
   "source": [
    "# Curve Fitting Using Scipy"
   ]
  },
  {
   "cell_type": "code",
   "execution_count": null,
   "id": "c5462b64",
   "metadata": {},
   "outputs": [],
   "source": [
    "def objective(x, a, b):\n",
    "\treturn a * x + b"
   ]
  },
  {
   "cell_type": "code",
   "execution_count": null,
   "id": "0c0a88af",
   "metadata": {},
   "outputs": [],
   "source": [
    "def curve(obj,x,y):    \n",
    "    popt, _ = curve_fit(obj, x, y)\n",
    "    a, b = popt\n",
    "    #plt.scatter(x, y)\n",
    "    x_line = arange(min(x), max(x), 1)\n",
    "    y_line = objective(x_line, a, b)\n",
    "    return(x_line,y_line)"
   ]
  },
  {
   "cell_type": "markdown",
   "id": "01578f2a",
   "metadata": {},
   "source": [
    "# Birch Clustering"
   ]
  },
  {
   "cell_type": "code",
   "execution_count": null,
   "id": "3e44f6b3",
   "metadata": {},
   "outputs": [],
   "source": [
    "# define the model\n",
    "model = Birch(threshold=150, n_clusters=2)\n",
    "# fit the model\n",
    "model.fit(points)\n",
    "# assign a cluster to each example\n",
    "yhat = model.predict(points)\n",
    "# retrieve unique clusters\n",
    "clusters = unique(yhat)\n",
    "figure, axis = plt.subplots(1, 2,figsize=(15,5))\n",
    "\n",
    "# create scatter plot for samples from each cluster\n",
    "for cluster in clusters:\n",
    "    # get row indexes for samples with this cluster\n",
    "    row_ix = where(yhat == cluster)\n",
    "    row_ix = row_ix[0]\n",
    "    new_x = []\n",
    "    new_y = []\n",
    "    for i in row_ix:\n",
    "        new_x.append(points[i][0])\n",
    "        new_y.append(points[i][1])\n",
    "    axis[0].scatter(new_x,new_y)\n",
    "    x_line,y_line = curve(objective, new_x,new_y)\n",
    "    axis[1].plot(x_line, y_line, '--', color='red')\n",
    "\n",
    "\n",
    "# show the plot\n",
    "plt.show()"
   ]
  },
  {
   "cell_type": "code",
   "execution_count": null,
   "id": "72c542df",
   "metadata": {},
   "outputs": [],
   "source": []
  }
 ],
 "metadata": {
  "kernelspec": {
   "display_name": "Python 3 (ipykernel)",
   "language": "python",
   "name": "python3"
  },
  "language_info": {
   "codemirror_mode": {
    "name": "ipython",
    "version": 3
   },
   "file_extension": ".py",
   "mimetype": "text/x-python",
   "name": "python",
   "nbconvert_exporter": "python",
   "pygments_lexer": "ipython3",
   "version": "3.9.9"
  }
 },
 "nbformat": 4,
 "nbformat_minor": 5
}
